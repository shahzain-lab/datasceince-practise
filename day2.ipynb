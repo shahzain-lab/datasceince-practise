{
 "cells": [
  {
   "cell_type": "markdown",
   "id": "1fa976fa",
   "metadata": {},
   "source": [
    "# Day 2 — Load & Explore Data (Pandas I/O + EDA basics)\n",
    "\n",
    "**Goal:** Learn to read CSVs, inspect data, run quick counts and summaries, and write notes.\n",
    "\n",
    " "
   ]
  },
  {
   "cell_type": "code",
   "execution_count": null,
   "id": "30055e71",
   "metadata": {},
   "outputs": [],
   "source": [
    "# 1) Imports and versions\n",
    "import pandas as pd\n",
    "import numpy as np\n",
    "from pathlib import Path\n",
    "\n",
    "print('Pandas:', pd.__version__)\n",
    "print('NumPy:', np.__version__)\n",
    "\n",
    "# Path check (should point to this notebook's folder)\n",
    "print('Working folder:', Path('.').resolve())"
   ]
  },
  {
   "cell_type": "code",
   "execution_count": 2,
   "id": "3195315a",
   "metadata": {},
   "outputs": [
    {
     "data": {
      "text/html": [
       "<div>\n",
       "<style scoped>\n",
       "    .dataframe tbody tr th:only-of-type {\n",
       "        vertical-align: middle;\n",
       "    }\n",
       "\n",
       "    .dataframe tbody tr th {\n",
       "        vertical-align: top;\n",
       "    }\n",
       "\n",
       "    .dataframe thead th {\n",
       "        text-align: right;\n",
       "    }\n",
       "</style>\n",
       "<table border=\"1\" class=\"dataframe\">\n",
       "  <thead>\n",
       "    <tr style=\"text-align: right;\">\n",
       "      <th></th>\n",
       "      <th>name</th>\n",
       "      <th>age</th>\n",
       "      <th>city</th>\n",
       "      <th>salary</th>\n",
       "    </tr>\n",
       "  </thead>\n",
       "  <tbody>\n",
       "    <tr>\n",
       "      <th>0</th>\n",
       "      <td>Alice</td>\n",
       "      <td>25</td>\n",
       "      <td>Karachi</td>\n",
       "      <td>50000</td>\n",
       "    </tr>\n",
       "    <tr>\n",
       "      <th>1</th>\n",
       "      <td>Bob</td>\n",
       "      <td>32</td>\n",
       "      <td>Lahore</td>\n",
       "      <td>60000</td>\n",
       "    </tr>\n",
       "    <tr>\n",
       "      <th>2</th>\n",
       "      <td>Charlie</td>\n",
       "      <td>29</td>\n",
       "      <td>Islamabad</td>\n",
       "      <td>55000</td>\n",
       "    </tr>\n",
       "    <tr>\n",
       "      <th>3</th>\n",
       "      <td>David</td>\n",
       "      <td>40</td>\n",
       "      <td>Karachi</td>\n",
       "      <td>65000</td>\n",
       "    </tr>\n",
       "    <tr>\n",
       "      <th>4</th>\n",
       "      <td>Eve</td>\n",
       "      <td>27</td>\n",
       "      <td>Lahore</td>\n",
       "      <td>52000</td>\n",
       "    </tr>\n",
       "  </tbody>\n",
       "</table>\n",
       "</div>"
      ],
      "text/plain": [
       "      name  age       city  salary\n",
       "0    Alice   25    Karachi   50000\n",
       "1      Bob   32     Lahore   60000\n",
       "2  Charlie   29  Islamabad   55000\n",
       "3    David   40    Karachi   65000\n",
       "4      Eve   27     Lahore   52000"
      ]
     },
     "execution_count": 2,
     "metadata": {},
     "output_type": "execute_result"
    }
   ],
   "source": [
    "# 2) Load the CSV\n",
    "csv_path = Path('.') / 'people.csv'\n",
    "assert csv_path.exists(), f'Missing file: {csv_path}. Make sure you keep the folder structure day2/data/people.csv'\n",
    "df = pd.read_csv(csv_path)\n",
    "df.head()"
   ]
  },
  {
   "cell_type": "code",
   "execution_count": 5,
   "id": "584d09cb",
   "metadata": {},
   "outputs": [
    {
     "name": "stdout",
     "output_type": "stream",
     "text": [
      "<class 'pandas.core.frame.DataFrame'>\n",
      "RangeIndex: 5 entries, 0 to 4\n",
      "Data columns (total 4 columns):\n",
      " #   Column  Non-Null Count  Dtype \n",
      "---  ------  --------------  ----- \n",
      " 0   name    5 non-null      object\n",
      " 1   age     5 non-null      int64 \n",
      " 2   city    5 non-null      object\n",
      " 3   salary  5 non-null      int64 \n",
      "dtypes: int64(2), object(2)\n",
      "memory usage: 292.0+ bytes\n"
     ]
    }
   ],
   "source": [
    "# 3) Quick structure and summary\n",
    "df.info()"
   ]
  },
  {
   "cell_type": "code",
   "execution_count": 6,
   "id": "5458d4a8",
   "metadata": {},
   "outputs": [
    {
     "data": {
      "text/plain": [
       "city\n",
       "Karachi      2\n",
       "Lahore       2\n",
       "Islamabad    1\n",
       "Name: count, dtype: int64"
      ]
     },
     "execution_count": 6,
     "metadata": {},
     "output_type": "execute_result"
    }
   ],
   "source": [
    "# 4) Categorical look: city breakdown\n",
    "df['city'].value_counts()"
   ]
  },
  {
   "cell_type": "code",
   "execution_count": 7,
   "id": "575cc3ac",
   "metadata": {},
   "outputs": [
    {
     "data": {
      "text/plain": [
       "Text(0, 0.5, 'Count')"
      ]
     },
     "execution_count": 7,
     "metadata": {},
     "output_type": "execute_result"
    },
    {
     "data": {
      "image/png": "[encoded data removed]",
      "text/plain": [
       "<Figure size 640x480 with 1 Axes>"
      ]
     },
     "metadata": {},
     "output_type": "display_data"
    }
   ],
   "source": [
    "# 5) (Optional) Quick bar chart of rows per city\n",
    "# In most Jupyter setups, this will display without extra imports.\n",
    "# If you want more control, import matplotlib and set labels/titles.\n",
    "ax = df['city'].value_counts().plot(kind='bar')\n",
    "ax.set_title('Row count by City')\n",
    "ax.set_xlabel('City')\n",
    "ax.set_ylabel('Count')"
   ]
  },
  {
   "cell_type": "markdown",
   "id": "f8bcc805",
   "metadata": {},
   "source": [
    "### TODOs (finish these before moving on)\n",
    "- Show only the first **3** rows of the DataFrame.\n",
    "- What is the **minimum**, **mean**, and **maximum** salary?\n",
    "- How many unique **cities** are in the data?\n",
    "- Create a new column `tax = salary * 0.05` and preview the top 5 rows.\n",
    "- Save your updated data to `data/people_clean.csv`.\n"
   ]
  },
  {
   "cell_type": "code",
   "execution_count": 16,
   "id": "fa7093a7",
   "metadata": {},
   "outputs": [],
   "source": [
    "df.head(3)\n",
    "df[\"salary\"].max()\n",
    "df[\"salary\"].min()\n",
    "df[\"salary\"].mean()\n",
    "df[\"city\"].unique()\n",
    "df[\"tax\"] = df[\"salary\"] * 0.05\n",
    "output = Path(\".\") / \"people_clean.csv\"\n",
    "df.to_csv(output, index=False)\n"
   ]
  },
  {
   "cell_type": "code",
   "execution_count": null,
   "id": "503f4c38",
   "metadata": {},
   "outputs": [],
   "source": [
    "# Your answers here\n",
    "# 1) First 3 rows\n",
    "first3 = df.head(3)\n",
    "first3\n",
    "\n",
    "# 2) Salary stats\n",
    "salary_min = df['salary'].min()\n",
    "salary_mean = df['salary'].mean()\n",
    "salary_max = df['salary'].max()\n",
    "print('Salary min/mean/max:', salary_min, salary_mean, salary_max)\n",
    "\n",
    "# 3) Unique cities\n",
    "unique_cities = df['city'].nunique()\n",
    "print('Unique cities:', unique_cities)\n",
    "\n",
    "# 4) New column tax\n",
    "df['tax'] = df['salary'] * 0.05\n",
    "df.head()\n",
    "\n",
    "# 5) Save cleaned\n",
    "out_path = Path('data') / 'people_clean.csv'\n",
    "df.to_csv(out_path, index=False)\n",
    "print('Saved:', out_path.resolve())"
   ]
  },
  {
   "cell_type": "markdown",
   "id": "662beb6b",
   "metadata": {},
   "source": [
    "### Write 3–5 bullets: What I learned today\n",
    "- I leanrt to use Path to load csv data\n",
    "- I used multiple methods to sort and filterout data\n",
    "- I stored the clean data into system file\n"
   ]
  }
 ],
 "metadata": {
  "kernelspec": {
   "display_name": "venv (3.12.4)",
   "language": "python",
   "name": "python3"
  },
  "language_info": {
   "codemirror_mode": {
    "name": "ipython",
    "version": 3
   },
   "file_extension": ".py",
   "mimetype": "text/x-python",
   "name": "python",
   "nbconvert_exporter": "python",
   "pygments_lexer": "ipython3",
   "version": "3.12.4"
  }
 },
 "nbformat": 4,
 "nbformat_minor": 5
}
