{
 "cells": [
  {
   "cell_type": "markdown",
   "id": "69263e9f",
   "metadata": {},
   "source": [
    "## Jupyter Hello World"
   ]
  },
  {
   "cell_type": "code",
   "execution_count": 38,
   "id": "c124d9ee-a51a-408d-bce2-5b0773076d3c",
   "metadata": {},
   "outputs": [],
   "source": [
    "import pandas as pd\n",
    "import matplotlib.pyplot as plt"
   ]
  },
  {
   "cell_type": "code",
   "execution_count": 3,
   "id": "6bf0cbea-b6c9-470e-b93b-075249122f8a",
   "metadata": {},
   "outputs": [],
   "source": [
    "data = {\n",
    "    \"Name\": [\"A\", \"B\", \"C\"],\n",
    "    \"Age\": [2, 5, 6],\n",
    "    \"Salary\": [\"3k\", \"5k\", \"4k\"]\n",
    "}"
   ]
  },
  {
   "cell_type": "code",
   "execution_count": 4,
   "id": "3feaeada",
   "metadata": {},
   "outputs": [
    {
     "name": "stdout",
     "output_type": "stream",
     "text": [
      "            Age\n",
      "count  3.000000\n",
      "mean   4.333333\n",
      "std    2.081666\n",
      "min    2.000000\n",
      "25%    3.500000\n",
      "50%    5.000000\n",
      "75%    5.500000\n",
      "max    6.000000\n"
     ]
    }
   ],
   "source": [
    "df = pd.DataFrame(data)\n",
    "indexes = df.index = [\"TOM\", \"BOB\", \"HOP\"]\n",
    "# print(df)\n",
    "print(df.describe())"
   ]
  },
  {
   "cell_type": "markdown",
   "id": "4d1f6cec",
   "metadata": {},
   "source": [
    "## Second Task - Load and Explore Data\n",
    "#### I created cdv file name `people.csv` and stored some data in it."
   ]
  },
  {
   "cell_type": "code",
   "execution_count": 24,
   "id": "3c6d27bf",
   "metadata": {},
   "outputs": [
    {
     "name": "stdout",
     "output_type": "stream",
     "text": [
      "<class 'pandas.core.frame.DataFrame'>\n",
      "RangeIndex: 5 entries, 0 to 4\n",
      "Data columns (total 4 columns):\n",
      " #   Column  Non-Null Count  Dtype \n",
      "---  ------  --------------  ----- \n",
      " 0   name    5 non-null      object\n",
      " 1   age     5 non-null      int64 \n",
      " 2   city    5 non-null      object\n",
      " 3   salary  5 non-null      int64 \n",
      "dtypes: int64(2), object(2)\n",
      "memory usage: 292.0+ bytes\n"
     ]
    },
    {
     "data": {
      "text/plain": [
       "city\n",
       "Karachi      2\n",
       "Lahore       2\n",
       "Islamabad    1\n",
       "Name: count, dtype: int64"
      ]
     },
     "execution_count": 24,
     "metadata": {},
     "output_type": "execute_result"
    }
   ],
   "source": [
    "data = pd.read_csv(\"people.csv\")\n",
    "data.head()\n",
    "data.describe()\n",
    "data.info()\n",
    "data[\"city\"].value_counts()"
   ]
  },
  {
   "cell_type": "markdown",
   "id": "cbb80c7a",
   "metadata": {},
   "source": [
    "#### Above I extracted data from csv file and tested some of pandas output methods"
   ]
  },
  {
   "cell_type": "code",
   "execution_count": 6,
   "id": "cfb44c3d",
   "metadata": {},
   "outputs": [
    {
     "data": {
      "text/html": [
       "<div>\n",
       "<style scoped>\n",
       "    .dataframe tbody tr th:only-of-type {\n",
       "        vertical-align: middle;\n",
       "    }\n",
       "\n",
       "    .dataframe tbody tr th {\n",
       "        vertical-align: top;\n",
       "    }\n",
       "\n",
       "    .dataframe thead th {\n",
       "        text-align: right;\n",
       "    }\n",
       "</style>\n",
       "<table border=\"1\" class=\"dataframe\">\n",
       "  <thead>\n",
       "    <tr style=\"text-align: right;\">\n",
       "      <th></th>\n",
       "      <th>name</th>\n",
       "      <th>age</th>\n",
       "      <th>city</th>\n",
       "      <th>salary</th>\n",
       "      <th>tax</th>\n",
       "    </tr>\n",
       "  </thead>\n",
       "  <tbody>\n",
       "    <tr>\n",
       "      <th>0</th>\n",
       "      <td>Alice</td>\n",
       "      <td>25</td>\n",
       "      <td>Karachi</td>\n",
       "      <td>50000</td>\n",
       "      <td>1500.0</td>\n",
       "    </tr>\n",
       "    <tr>\n",
       "      <th>1</th>\n",
       "      <td>Bob</td>\n",
       "      <td>32</td>\n",
       "      <td>Lahore</td>\n",
       "      <td>60000</td>\n",
       "      <td>1800.0</td>\n",
       "    </tr>\n",
       "    <tr>\n",
       "      <th>2</th>\n",
       "      <td>Charlie</td>\n",
       "      <td>29</td>\n",
       "      <td>Islamabad</td>\n",
       "      <td>55000</td>\n",
       "      <td>1650.0</td>\n",
       "    </tr>\n",
       "    <tr>\n",
       "      <th>3</th>\n",
       "      <td>David</td>\n",
       "      <td>40</td>\n",
       "      <td>Karachi</td>\n",
       "      <td>65000</td>\n",
       "      <td>1950.0</td>\n",
       "    </tr>\n",
       "    <tr>\n",
       "      <th>4</th>\n",
       "      <td>Eve</td>\n",
       "      <td>27</td>\n",
       "      <td>Lahore</td>\n",
       "      <td>52000</td>\n",
       "      <td>1560.0</td>\n",
       "    </tr>\n",
       "  </tbody>\n",
       "</table>\n",
       "</div>"
      ],
      "text/plain": [
       "      name  age       city  salary     tax\n",
       "0    Alice   25    Karachi   50000  1500.0\n",
       "1      Bob   32     Lahore   60000  1800.0\n",
       "2  Charlie   29  Islamabad   55000  1650.0\n",
       "3    David   40    Karachi   65000  1950.0\n",
       "4      Eve   27     Lahore   52000  1560.0"
      ]
     },
     "execution_count": 6,
     "metadata": {},
     "output_type": "execute_result"
    }
   ],
   "source": [
    "data.sort_values(\"salary\", ascending=False)\n",
    "data[\"tax\"] = data[\"salary\"] * 0.03\n",
    "data.tail()"
   ]
  },
  {
   "cell_type": "markdown",
   "id": "f3adc85f",
   "metadata": {},
   "source": [
    "#### I created new column above with name `tax` and added tax value by multiplying with salary index"
   ]
  },
  {
   "cell_type": "code",
   "execution_count": 22,
   "id": "e2524832",
   "metadata": {},
   "outputs": [
    {
     "data": {
      "text/html": [
       "<div>\n",
       "<style scoped>\n",
       "    .dataframe tbody tr th:only-of-type {\n",
       "        vertical-align: middle;\n",
       "    }\n",
       "\n",
       "    .dataframe tbody tr th {\n",
       "        vertical-align: top;\n",
       "    }\n",
       "\n",
       "    .dataframe thead th {\n",
       "        text-align: right;\n",
       "    }\n",
       "</style>\n",
       "<table border=\"1\" class=\"dataframe\">\n",
       "  <thead>\n",
       "    <tr style=\"text-align: right;\">\n",
       "      <th></th>\n",
       "      <th>name</th>\n",
       "      <th>age</th>\n",
       "      <th>city</th>\n",
       "      <th>salary</th>\n",
       "      <th>tax</th>\n",
       "      <th>age_band</th>\n",
       "    </tr>\n",
       "  </thead>\n",
       "  <tbody>\n",
       "    <tr>\n",
       "      <th>0</th>\n",
       "      <td>Alice</td>\n",
       "      <td>25.0</td>\n",
       "      <td>Karachi</td>\n",
       "      <td>50000.0</td>\n",
       "      <td>1500.0</td>\n",
       "      <td>&lt;25</td>\n",
       "    </tr>\n",
       "    <tr>\n",
       "      <th>1</th>\n",
       "      <td>NaN</td>\n",
       "      <td>NaN</td>\n",
       "      <td>NaN</td>\n",
       "      <td>NaN</td>\n",
       "      <td>NaN</td>\n",
       "      <td>NaN</td>\n",
       "    </tr>\n",
       "    <tr>\n",
       "      <th>2</th>\n",
       "      <td>Charlie</td>\n",
       "      <td>29.0</td>\n",
       "      <td>Islamabad</td>\n",
       "      <td>55000.0</td>\n",
       "      <td>1650.0</td>\n",
       "      <td>26-30</td>\n",
       "    </tr>\n",
       "    <tr>\n",
       "      <th>3</th>\n",
       "      <td>David</td>\n",
       "      <td>40.0</td>\n",
       "      <td>Karachi</td>\n",
       "      <td>65000.0</td>\n",
       "      <td>1950.0</td>\n",
       "      <td>31-40</td>\n",
       "    </tr>\n",
       "    <tr>\n",
       "      <th>4</th>\n",
       "      <td>Eve</td>\n",
       "      <td>27.0</td>\n",
       "      <td>Lahore</td>\n",
       "      <td>52000.0</td>\n",
       "      <td>1560.0</td>\n",
       "      <td>26-30</td>\n",
       "    </tr>\n",
       "  </tbody>\n",
       "</table>\n",
       "</div>"
      ],
      "text/plain": [
       "      name   age       city   salary     tax age_band\n",
       "0    Alice  25.0    Karachi  50000.0  1500.0      <25\n",
       "1      NaN   NaN        NaN      NaN     NaN      NaN\n",
       "2  Charlie  29.0  Islamabad  55000.0  1650.0    26-30\n",
       "3    David  40.0    Karachi  65000.0  1950.0    31-40\n",
       "4      Eve  27.0     Lahore  52000.0  1560.0    26-30"
      ]
     },
     "execution_count": 22,
     "metadata": {},
     "output_type": "execute_result"
    }
   ],
   "source": [
    "data[\"age_band\"] = pd.cut(data[\"age\"], bins=[0,25,30,40,100], labels=[\"<25\", \"26-30\", \"31-40\", \"40>\"])\n",
    "data.head()"
   ]
  },
  {
   "cell_type": "code",
   "execution_count": 26,
   "id": "d9c8b051",
   "metadata": {},
   "outputs": [
    {
     "data": {
      "text/html": [
       "<div>\n",
       "<style scoped>\n",
       "    .dataframe tbody tr th:only-of-type {\n",
       "        vertical-align: middle;\n",
       "    }\n",
       "\n",
       "    .dataframe tbody tr th {\n",
       "        vertical-align: top;\n",
       "    }\n",
       "\n",
       "    .dataframe thead th {\n",
       "        text-align: right;\n",
       "    }\n",
       "</style>\n",
       "<table border=\"1\" class=\"dataframe\">\n",
       "  <thead>\n",
       "    <tr style=\"text-align: right;\">\n",
       "      <th></th>\n",
       "      <th>name</th>\n",
       "      <th>age</th>\n",
       "      <th>city</th>\n",
       "      <th>salary</th>\n",
       "    </tr>\n",
       "  </thead>\n",
       "  <tbody>\n",
       "    <tr>\n",
       "      <th>0</th>\n",
       "      <td>Alice</td>\n",
       "      <td>25</td>\n",
       "      <td>Karachi</td>\n",
       "      <td>50000</td>\n",
       "    </tr>\n",
       "    <tr>\n",
       "      <th>1</th>\n",
       "      <td>Bob</td>\n",
       "      <td>32</td>\n",
       "      <td>Lahore</td>\n",
       "      <td>60000</td>\n",
       "    </tr>\n",
       "    <tr>\n",
       "      <th>2</th>\n",
       "      <td>Charlie</td>\n",
       "      <td>29</td>\n",
       "      <td>Islamabad</td>\n",
       "      <td>55000</td>\n",
       "    </tr>\n",
       "    <tr>\n",
       "      <th>3</th>\n",
       "      <td>David</td>\n",
       "      <td>40</td>\n",
       "      <td>Karachi</td>\n",
       "      <td>65000</td>\n",
       "    </tr>\n",
       "    <tr>\n",
       "      <th>4</th>\n",
       "      <td>Eve</td>\n",
       "      <td>27</td>\n",
       "      <td>Lahore</td>\n",
       "      <td>52000</td>\n",
       "    </tr>\n",
       "  </tbody>\n",
       "</table>\n",
       "</div>"
      ],
      "text/plain": [
       "      name  age       city  salary\n",
       "0    Alice   25    Karachi   50000\n",
       "1      Bob   32     Lahore   60000\n",
       "2  Charlie   29  Islamabad   55000\n",
       "3    David   40    Karachi   65000\n",
       "4      Eve   27     Lahore   52000"
      ]
     },
     "execution_count": 26,
     "metadata": {},
     "output_type": "execute_result"
    }
   ],
   "source": [
    "data[\"name\"].str.upper()\n",
    "data.head()"
   ]
  },
  {
   "cell_type": "markdown",
   "id": "cf09a652",
   "metadata": {},
   "source": [
    "### There are multiple things I can do here. I can use methods to filter some data, to change. I can also add date items in this data. Later, I will show how to create graph using this data."
   ]
  },
  {
   "cell_type": "code",
   "execution_count": 30,
   "id": "371f7605",
   "metadata": {},
   "outputs": [
    {
     "data": {
      "text/html": [
       "<div>\n",
       "<style scoped>\n",
       "    .dataframe tbody tr th:only-of-type {\n",
       "        vertical-align: middle;\n",
       "    }\n",
       "\n",
       "    .dataframe tbody tr th {\n",
       "        vertical-align: top;\n",
       "    }\n",
       "\n",
       "    .dataframe thead th {\n",
       "        text-align: right;\n",
       "    }\n",
       "</style>\n",
       "<table border=\"1\" class=\"dataframe\">\n",
       "  <thead>\n",
       "    <tr style=\"text-align: right;\">\n",
       "      <th></th>\n",
       "      <th>city</th>\n",
       "      <th>avg_salary</th>\n",
       "      <th>count</th>\n",
       "    </tr>\n",
       "  </thead>\n",
       "  <tbody>\n",
       "    <tr>\n",
       "      <th>0</th>\n",
       "      <td>Islamabad</td>\n",
       "      <td>55000.0</td>\n",
       "      <td>1</td>\n",
       "    </tr>\n",
       "    <tr>\n",
       "      <th>1</th>\n",
       "      <td>Karachi</td>\n",
       "      <td>57500.0</td>\n",
       "      <td>2</td>\n",
       "    </tr>\n",
       "    <tr>\n",
       "      <th>2</th>\n",
       "      <td>Lahore</td>\n",
       "      <td>56000.0</td>\n",
       "      <td>2</td>\n",
       "    </tr>\n",
       "  </tbody>\n",
       "</table>\n",
       "</div>"
      ],
      "text/plain": [
       "        city  avg_salary  count\n",
       "0  Islamabad     55000.0      1\n",
       "1    Karachi     57500.0      2\n",
       "2     Lahore     56000.0      2"
      ]
     },
     "execution_count": 30,
     "metadata": {},
     "output_type": "execute_result"
    }
   ],
   "source": [
    "data[\"year\"] = pd.to_datetime(['2024-01-10','2023-11-02','2025-02-15','2024-06-01','2025-01-20'])\n",
    "data.groupby('city', as_index=False).agg(\n",
    "    avg_salary=('salary','mean'),\n",
    "    count=('name','count')\n",
    ")"
   ]
  },
  {
   "cell_type": "code",
   "execution_count": 39,
   "id": "3d444c67",
   "metadata": {},
   "outputs": [
    {
     "data": {
      "image/png": "[encoded data removed]",
      "text/plain": [
       "<Figure size 640x480 with 1 Axes>"
      ]
     },
     "metadata": {},
     "output_type": "display_data"
    }
   ],
   "source": [
    "data.groupby(\"city\")[\"salary\"].mean().plot(kind=\"bar\")\n",
    "plt.title(\"Average Salary By City\")\n",
    "plt.xlabel(\"City\")\n",
    "plt.ylabel(\"Salary\")\n",
    "plt.show()"
   ]
  },
  {
   "cell_type": "code",
   "execution_count": 51,
   "id": "8180cb0a",
   "metadata": {},
   "outputs": [
    {
     "data": {
      "text/plain": [
       "<Axes: xlabel='name'>"
      ]
     },
     "execution_count": 51,
     "metadata": {},
     "output_type": "execute_result"
    },
    {
     "data": {
      "image/png": "[encoded data removed]",
      "text/plain": [
       "<Figure size 640x480 with 1 Axes>"
      ]
     },
     "metadata": {},
     "output_type": "display_data"
    }
   ],
   "source": [
    "# Average Employee Age\n",
    "data.groupby(\"name\")[\"age\"].mean().plot(kind=\"line\")"
   ]
  },
  {
   "cell_type": "markdown",
   "id": "11dabc82",
   "metadata": {},
   "source": [
    "#### In above case, I don't need to install matplotlib, pandas under the hood installed this lib and I can just call .plot(). In production apps. I need to install matplotlib for extra tweaking like title "
   ]
  }
 ],
 "metadata": {
  "kernelspec": {
   "display_name": "venv (3.12.4)",
   "language": "python",
   "name": "python3"
  },
  "language_info": {
   "codemirror_mode": {
    "name": "ipython",
    "version": 3
   },
   "file_extension": ".py",
   "mimetype": "text/x-python",
   "name": "python",
   "nbconvert_exporter": "python",
   "pygments_lexer": "ipython3",
   "version": "3.12.4"
  }
 },
 "nbformat": 4,
 "nbformat_minor": 5
}
