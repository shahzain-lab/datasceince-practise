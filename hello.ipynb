{
 "cells": [
  {
   "cell_type": "code",
   "execution_count": 2,
   "id": "c124d9ee-a51a-408d-bce2-5b0773076d3c",
   "metadata": {},
   "outputs": [],
   "source": [
    "import pandas as pd\n",
    "import numpy as ny"
   ]
  },
  {
   "cell_type": "code",
   "execution_count": 3,
   "id": "6bf0cbea-b6c9-470e-b93b-075249122f8a",
   "metadata": {},
   "outputs": [],
   "source": [
    "data = {\n",
    "    \"Name\": [\"A\", \"B\", \"C\"],\n",
    "    \"Age\": [2, 5, 6],\n",
    "    \"Salary\": [\"3k\", \"5k\", \"4k\"]\n",
    "}"
   ]
  },
  {
   "cell_type": "code",
   "execution_count": 11,
   "id": "3feaeada",
   "metadata": {},
   "outputs": [
    {
     "name": "stdout",
     "output_type": "stream",
     "text": [
      "            Age\n",
      "count  3.000000\n",
      "mean   4.333333\n",
      "std    2.081666\n",
      "min    2.000000\n",
      "25%    3.500000\n",
      "50%    5.000000\n",
      "75%    5.500000\n",
      "max    6.000000\n"
     ]
    }
   ],
   "source": [
    "df = pd.DataFrame(data)\n",
    "indexes = df.index = [\"TOM\", \"BOB\", \"HOP\"]\n",
    "# print(df)\n",
    "print(df.describe())"
   ]
  },
  {
   "cell_type": "markdown",
   "id": "4d1f6cec",
   "metadata": {},
   "source": [
    "## Second Task - Load and Explore Data\n",
    "#### I created cdv file name `people.csv` and stored some data in it."
   ]
  },
  {
   "cell_type": "code",
   "execution_count": 19,
   "id": "3c6d27bf",
   "metadata": {},
   "outputs": [
    {
     "name": "stdout",
     "output_type": "stream",
     "text": [
      "<class 'pandas.core.frame.DataFrame'>\n",
      "RangeIndex: 5 entries, 0 to 4\n",
      "Data columns (total 4 columns):\n",
      " #   Column  Non-Null Count  Dtype \n",
      "---  ------  --------------  ----- \n",
      " 0   name    5 non-null      object\n",
      " 1   age     5 non-null      int64 \n",
      " 2   city    5 non-null      object\n",
      " 3   salary  5 non-null      int64 \n",
      "dtypes: int64(2), object(2)\n",
      "memory usage: 292.0+ bytes\n"
     ]
    }
   ],
   "source": [
    "data = pd.read_csv(\"people.csv\")\n",
    "data.head()\n",
    "# data.describe()\n",
    "data.info()"
   ]
  }
 ],
 "metadata": {
  "kernelspec": {
   "display_name": "venv (3.12.4)",
   "language": "python",
   "name": "python3"
  },
  "language_info": {
   "codemirror_mode": {
    "name": "ipython",
    "version": 3
   },
   "file_extension": ".py",
   "mimetype": "text/x-python",
   "name": "python",
   "nbconvert_exporter": "python",
   "pygments_lexer": "ipython3",
   "version": "3.12.4"
  }
 },
 "nbformat": 4,
 "nbformat_minor": 5
}
